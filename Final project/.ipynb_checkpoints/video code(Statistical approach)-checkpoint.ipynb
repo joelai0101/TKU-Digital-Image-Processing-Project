{
 "cells": [
  {
   "cell_type": "code",
   "execution_count": null,
   "id": "5eddcdab",
   "metadata": {},
   "outputs": [],
   "source": [
    "import tensorflow as tf\n",
    "from tensorflow.keras import layers, losses\n",
    "from tensorflow.keras.preprocessing.image import ImageDataGenerator\n",
    "from tensorflow.keras.models import Model\n",
    "from tensorflow.keras.layers import Lambda\n",
    "from tensorflow.keras import backend as K\n",
    "from tensorflow.keras.callbacks import TensorBoard\n",
    "import os\n",
    "from glob2 import glob\n",
    "import matplotlib.pyplot as plt\n",
    "import numpy as np\n",
    "import pandas as pd\n",
    "import cv2\n",
    "import time\n",
    "from time import time\n",
    "import matplotlib.pyplot as plt\n",
    "from PIL import Image, ImageChops, ImageStat\n",
    "from diffimg import diff\n",
    "from sklearn.model_selection import train_test_split"
   ]
  },
  {
   "cell_type": "code",
   "execution_count": null,
   "id": "d0037c64",
   "metadata": {},
   "outputs": [],
   "source": [
    "from skimage.feature import graycomatrix, graycoprops\n",
    "from skimage import filters"
   ]
  },
  {
   "cell_type": "markdown",
   "id": "ac82b4ff",
   "metadata": {},
   "source": [
    "# Statistics approach 統計學方法"
   ]
  },
  {
   "cell_type": "code",
   "execution_count": null,
   "id": "80e00f5c",
   "metadata": {},
   "outputs": [],
   "source": [
    "def findImageDefects(input_image):\n",
    "    \n",
    "    \n",
    "    # 對圖像進行對比度增強\n",
    "    image_alpha = cv2.convertScaleAbs(input_image, alpha=1.2, beta=0)\n",
    "    # 將圖像轉換為灰度圖\n",
    "    gray_image = cv2.cvtColor(image_alpha, cv2.COLOR_BGR2GRAY)\n",
    "    detect_image = cv2.cvtColor(input_image, cv2.COLOR_BGR2GRAY)\n",
    "    \n",
    "    # 高斯模糊\n",
    "    image = cv2.GaussianBlur(gray_image, (17, 17), 0) # 用來統計的圖像\n",
    "    detect_image = cv2.GaussianBlur(detect_image, (17, 17), 0) # 用來輸出偵測結果\n",
    "    \n",
    "    # 複製圖像\n",
    "    output_image = np.copy(input_image) # 用來比較原圖\n",
    "    \n",
    "    \n",
    "    size_filter = 25 # 25\n",
    "    nr,nc = image.shape[:2]\n",
    "    #print(nr,nc)\n",
    "\n",
    "    offset = 5\n",
    "    x_filter = int((nr)/offset)\n",
    "    y_filter = int((nc)/offset)\n",
    "    \n",
    "    co_correlation = np.zeros((x_filter ,y_filter))\n",
    "    co_homogeneity = np.zeros((x_filter ,y_filter))\n",
    "    co_contrast = np.zeros((x_filter ,y_filter))\n",
    "\n",
    "    end_r = nr - size_filter + offset\n",
    "    end_c = nc - size_filter + offset\n",
    "\n",
    "    for i in range(0, end_r, offset):\n",
    "        for j in range(0, end_c, offset):\n",
    "            \n",
    "            f = image[ i : i + size_filter , j : j + size_filter ]\n",
    "            result = graycomatrix( f, [1],[0] )\n",
    "            co_correlation[int(i/offset),int(j/offset)] = float(graycoprops(result, 'correlation'))\n",
    "            co_homogeneity[int(i/offset),int(j/offset)] = float(graycoprops(result, 'homogeneity'))\n",
    "            co_contrast[int(i/offset),int(j/offset)] = float(graycoprops(result, 'contrast'))\n",
    "    \n",
    "    correlation_mean = np.mean(co_correlation)\n",
    "    homogeneity_mean = np.mean(co_homogeneity)\n",
    "    contrast_mean = np.mean(co_contrast)\n",
    "    \n",
    "    threshold_correlation = correlation_mean * 1.0975\n",
    "    threshold_homogeneity = homogeneity_mean * 0.725\n",
    "    threshold_contrast = contrast_mean * 0.975\n",
    "    \n",
    "    defects = np.zeros( [ x_filter, y_filter ] )\n",
    "    \n",
    "    # 標記空洞位置\n",
    "    for i in range(x_filter):\n",
    "        for j in range(y_filter):\n",
    "            if co_correlation[i,j] > threshold_correlation:\n",
    "                #cv2.circle(image,( j*offset , i*offset ), 1, (255,0,0), -1)\n",
    "                if (co_contrast[i,j] > threshold_contrast):\n",
    "                    defects[i, j] = 1\n",
    "                    #cv2.circle(image,( j*offset , i*offset ), 1, (255,0,0), -1)\n",
    "                elif (co_homogeneity[i,j] <= threshold_homogeneity):\n",
    "                    defects[i, j] = 1\n",
    "                    #cv2.circle(image,( j*offset , i*offset ), 1, (255,0,0), -1)\n",
    "    \n",
    "    for i in range(x_filter):\n",
    "        for j in range(y_filter):\n",
    "            if defects[i, j]:\n",
    "                # 檢查周圍\n",
    "                transposed_defects = defects.T\n",
    "                \n",
    "                pixels_x = defects[i][j-2:j+3]\n",
    "                #x_count_0 = np.count_nonzero(pixels_x==0)\n",
    "                x_count_1 = np.count_nonzero(pixels_x)\n",
    "                \n",
    "                pixels_y = transposed_defects[j][i-2:i+3]\n",
    "                #y_count_0 = np.count_nonzero(pixels_y==0)\n",
    "                y_count_1 = np.count_nonzero(pixels_y)\n",
    "                \n",
    "                if x_count_1 + y_count_1 > 9:\n",
    "                    cv2.circle(detect_image,( j*offset , i*offset ), 25, (255,0,0), -1)\n",
    "                    cv2.circle(output_image,( j*offset , i*offset ), 25, (255,255,255), -1)\n",
    "                if x_count_1 > 3:\n",
    "                    cv2.ellipse(detect_image,( j*offset , i*offset ),( 48 , 24 ), 0, 0, 360, (255,0,0), -1)\n",
    "                    cv2.ellipse(output_image,( j*offset , i*offset ),( 48 , 24 ), 0, 0, 360, (255,255,255), -1)\n",
    "                if y_count_1 > 3:\n",
    "                    cv2.ellipse(detect_image,( j*offset , i*offset ),( 24 , 48 ), 0, 0, 360, (255,0,0), -1)\n",
    "                    cv2.ellipse(output_image,( j*offset , i*offset ),( 24 , 48 ), 0, 0, 360, (255,255,255), -1)\n",
    "    \n",
    "    return detect_image, output_image"
   ]
  },
  {
   "cell_type": "code",
   "execution_count": null,
   "id": "e2048aa5",
   "metadata": {},
   "outputs": [],
   "source": [
    "def DefectDetection(input_image):\n",
    "    _, detect_image = cv2.threshold(input_image, 127, 255, cv2.THRESH_BINARY_INV)\n",
    "    \n",
    "    background_pixels = 800 * 600\n",
    "    \n",
    "    # 使用 numpy 的 nonzero 函數獲取輸出圖像中所有非零像素的位置\n",
    "    black_pixels = np.nonzero(detect_image)\n",
    "    # 從 black_pixels 中提取出黑色區塊\n",
    "    black_region = detect_image[black_pixels]\n",
    "    \n",
    "    # 使用 numpy 的 count_nonzero 函數計算 black_region 中黑色像素的數量\n",
    "    num_black_pixels = np.count_nonzero(black_region)\n",
    "\n",
    "    # print('defect size:', background_pixels - num_black_pixels)\n",
    "    \n",
    "    hasDefect = False\n",
    "    \n",
    "    if background_pixels - num_black_pixels > 1000:\n",
    "        hasDefect = True\n",
    "    else:\n",
    "        detect_image[black_pixels] = 255 # 0\n",
    "        hasDefect = False\n",
    "        \n",
    "    return hasDefect, detect_image"
   ]
  },
  {
   "cell_type": "code",
   "execution_count": null,
   "id": "e030abed",
   "metadata": {},
   "outputs": [],
   "source": [
    "def images_display(img1, img2, img3):\n",
    "    # 建立一個大小為 3x1 的圖表矩陣，並傳回 Figure 和 Axes 物件\n",
    "    fig, axs = plt.subplots(1, 3, figsize=(12, 4))\n",
    "\n",
    "    # 繪製第一張圖\n",
    "    axs[0].imshow(img1, cmap='gray')\n",
    "    axs[0].set_title('Input image')\n",
    "\n",
    "    # 繪製第二張圖\n",
    "    axs[1].imshow(img2, cmap='gray')\n",
    "    axs[1].set_title('Output image')\n",
    "\n",
    "    # 繪製第三張圖\n",
    "    axs[2].imshow(img3, cmap='binary_r')\n",
    "    axs[2].set_title('Detection image')\n",
    "\n",
    "    plt.show()"
   ]
  },
  {
   "cell_type": "markdown",
   "id": "eb555e4d",
   "metadata": {},
   "source": [
    "## Capture the video"
   ]
  },
  {
   "cell_type": "code",
   "execution_count": null,
   "id": "0864d864",
   "metadata": {},
   "outputs": [],
   "source": [
    "def get_images_from_video(video_name, time_F):\n",
    "    video_images = []\n",
    "    vc = cv2.VideoCapture(video_name)\n",
    "    c = 1\n",
    "    \n",
    "    if vc.isOpened(): \n",
    "        rval, video_frame = vc.read()\n",
    "    else:\n",
    "        rval = False\n",
    "\n",
    "    while rval:\n",
    "        rval, video_frame = vc.read()\n",
    "        \n",
    "        if(c % time_F == 0):\n",
    "            video_images.append(video_frame)     \n",
    "        c = c + 1\n",
    "    vc.release()\n",
    "    \n",
    "    return video_images\n",
    "\n",
    "time_F = 5\n",
    "video_name = 'texture_video.avi' \n",
    "video_images = get_images_from_video(video_name, time_F)\n",
    "\n",
    "for i in range(0, len(video_images)):\n",
    "    cv2.imwrite( \"imgs/img\"+str(i+1)+\".jpg\", video_images[i])"
   ]
  },
  {
   "cell_type": "markdown",
   "id": "a634f77f",
   "metadata": {},
   "source": [
    "## 輸入並辨識影像"
   ]
  },
  {
   "cell_type": "code",
   "execution_count": null,
   "id": "56691160",
   "metadata": {
    "scrolled": true
   },
   "outputs": [],
   "source": [
    "number_list = []\n",
    "input_directory_list = []\n",
    "output_directory_list = []\n",
    "detect_result_directory_list = []\n",
    "labels = []\n",
    "for i in range(1087): # for i in Detects \n",
    "    \n",
    "    num = i+1 # i\n",
    "    print(num)\n",
    "    \n",
    "    input_directory = 'imgs/img'+str(num)+'.jpg'\n",
    "    number_list.append(num)\n",
    "    input_directory_list.append(input_directory)\n",
    "    input_image = cv2.imread(input_directory)\n",
    "    \n",
    "    detect_image, output_image = findImageDefects(input_image)\n",
    "    \n",
    "    output_directory = \"output/result\"+str(num)+\".jpg\"\n",
    "    output_directory_list.append(output_directory)\n",
    "    cv2.imwrite( output_directory, output_image)\n",
    "    \n",
    "    hasDefect, detect_image = DefectDetection(detect_image)\n",
    "    \n",
    "    detect_result_directory = \"detect_result/result\"+str(num)+\".jpg\"\n",
    "    detect_result_directory_list.append(detect_result_directory)\n",
    "    cv2.imwrite( detect_result_directory, detect_image)\n",
    "            \n",
    "    #images_display(input_image, output_image, detect_image)\n",
    "    \n",
    "    if hasDefect:\n",
    "        print('The image has a defect\\n')\n",
    "        labels.append(1)\n",
    "    else:\n",
    "        print('The image has no defect\\n')\n",
    "        labels.append(0)"
   ]
  },
  {
   "cell_type": "markdown",
   "id": "ecf21de6",
   "metadata": {},
   "source": [
    "## 輸出影像"
   ]
  },
  {
   "cell_type": "code",
   "execution_count": null,
   "id": "f57f4b73",
   "metadata": {},
   "outputs": [],
   "source": [
    "#image to video\n",
    "# 加分 video in video out\n",
    "path = \"./output/\"\n",
    "filelist = os.listdir(path)\n",
    "fps = 6\n",
    "size = (800, 600) \n",
    "\n",
    "video = cv2.VideoWriter(\"Video4Statistics.avi\", \n",
    "        cv2.VideoWriter_fourcc('I', '4', '2', '0'), fps, size)\n",
    "\n",
    "for item in filelist:\n",
    "    if item.endswith('.jpg'): \n",
    "\n",
    "        item = path + item\n",
    "        img = cv2.imread(item)\n",
    "        video.write(img)\n",
    "\n",
    "video.release()\n",
    "cv2.destroyAllWindows()\n"
   ]
  },
  {
   "cell_type": "markdown",
   "id": "7b691bb1",
   "metadata": {},
   "source": [
    "## 建立有標籤資料集（AE）"
   ]
  },
  {
   "cell_type": "code",
   "execution_count": null,
   "id": "0762e9c8",
   "metadata": {},
   "outputs": [],
   "source": [
    "len(labels)"
   ]
  },
  {
   "cell_type": "code",
   "execution_count": null,
   "id": "be8a30f3",
   "metadata": {},
   "outputs": [],
   "source": [
    "count0 = labels.count(0)\n",
    "count1 = labels.count(1)\n",
    "print(count0, count1)"
   ]
  },
  {
   "cell_type": "code",
   "execution_count": null,
   "id": "fb55974b",
   "metadata": {},
   "outputs": [],
   "source": [
    "indices_0 = [i+1 for i, x in enumerate(labels) if x == 0]\n",
    "indices_1 = [i+1 for i, x in enumerate(labels) if x == 1]"
   ]
  },
  {
   "cell_type": "code",
   "execution_count": null,
   "id": "a6e16a3b",
   "metadata": {},
   "outputs": [],
   "source": [
    "print(indices_1)"
   ]
  },
  {
   "cell_type": "code",
   "execution_count": null,
   "id": "3f5ded54",
   "metadata": {},
   "outputs": [],
   "source": [
    "df = pd.DataFrame(number_list, columns=['num'])\n",
    "df['input_directory'] = input_directory_list\n",
    "df['output_directory'] = output_directory_list\n",
    "df['detect_directory'] = detect_result_directory_list\n",
    "df['label'] = labels"
   ]
  },
  {
   "cell_type": "code",
   "execution_count": null,
   "id": "72294473",
   "metadata": {},
   "outputs": [],
   "source": [
    "df"
   ]
  },
  {
   "cell_type": "code",
   "execution_count": null,
   "id": "d4c41558",
   "metadata": {},
   "outputs": [],
   "source": [
    "df.to_csv(\"labels.csv\")"
   ]
  },
  {
   "cell_type": "markdown",
   "id": "6452bd50",
   "metadata": {},
   "source": [
    "# 測試資料偵測瑕疵"
   ]
  },
  {
   "cell_type": "code",
   "execution_count": null,
   "id": "73f50f71",
   "metadata": {},
   "outputs": [],
   "source": [
    "import cv2\n",
    "import tensorflow as tf\n",
    "import numpy as np\n",
    "from os import listdir\n",
    "from os.path import join\n",
    "import time"
   ]
  },
  {
   "cell_type": "code",
   "execution_count": null,
   "id": "6fbb11b5",
   "metadata": {},
   "outputs": [],
   "source": [
    "if __name__ == '__main__':\n",
    "    fld = './error/'\n",
    "    for i, f in enumerate(listdir(fld)):\n",
    "        \n",
    "        frame = cv2.imread(join(fld, f))\n",
    "        \n",
    "        time_start = time.time()\n",
    "        detect_image, output_image = findImageDefects(frame)\n",
    "        time_end = time.time()\n",
    "        print(f'img-{i} cost time : {time_end - time_start} sec')\n",
    "        \n",
    "        cv2.imwrite(f'./statistics_error_result/result{i}.png', output_image)\n",
    "        \n",
    "        hasDefect, detect_image = DefectDetection(detect_image)\n",
    "        \n",
    "        cv2.imwrite( f'./statistics_error_detect/result{i}.png', detect_image)\n",
    "        \n",
    "        images_display(frame, output_image, detect_image)\n",
    "        \n",
    "        img1= join(fld, f)\n",
    "        img2= f'./statistics_error_result/result{i}.png'\n",
    "        \n",
    "        difference = diff(img1,img2)\n",
    "        print(difference)\n",
    "        \n",
    "        if difference > 0.0 and hasDefect:\n",
    "            print(\"This image has a defect.\\n\")\n",
    "        else:\n",
    "            print(\"This image has no defect\\n\")"
   ]
  },
  {
   "cell_type": "code",
   "execution_count": null,
   "id": "e121b12a",
   "metadata": {},
   "outputs": [],
   "source": [
    "# 錯誤比對函數 diff()\n",
    "img1=\"statistics_error_result/result1.png\"\n",
    "img2=\"error/img1 copy.jpg\"\n",
    "print(diff(img1,img2))"
   ]
  },
  {
   "cell_type": "code",
   "execution_count": null,
   "id": "a8f6c79a",
   "metadata": {},
   "outputs": [],
   "source": []
  }
 ],
 "metadata": {
  "kernelspec": {
   "display_name": "Python 3 (ipykernel)",
   "language": "python",
   "name": "python3"
  },
  "language_info": {
   "codemirror_mode": {
    "name": "ipython",
    "version": 3
   },
   "file_extension": ".py",
   "mimetype": "text/x-python",
   "name": "python",
   "nbconvert_exporter": "python",
   "pygments_lexer": "ipython3",
   "version": "3.9.10"
  }
 },
 "nbformat": 4,
 "nbformat_minor": 5
}
